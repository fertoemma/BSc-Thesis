{
 "cells": [
  {
   "cell_type": "markdown",
   "metadata": {},
   "source": [
    "# 3 DoF Model"
   ]
  },
  {
   "cell_type": "markdown",
   "metadata": {},
   "source": [
    "### Imports"
   ]
  },
  {
   "cell_type": "code",
   "execution_count": 2,
   "metadata": {},
   "outputs": [],
   "source": [
    "# Import official modules\n",
    "import os\n",
    "import sys\n",
    "import numpy as np\n",
    "import sympy as sp\n",
    "from lmfit import Parameters, Minimizer\n",
    "import lmfit\n",
    "import matplotlib.pyplot as plt\n",
    "\n",
    "# Import custom modules\n",
    "osd_path = os.path.dirname(os.getcwd())  # szülőkönyvtár szülőkönyvtára\n",
    "sys.path.append( osd_path )\n",
    "\n",
    "import lmfit_3dof\n",
    "import model2_3dof_multibody.equation_solver_3DoF as solv\n",
    "import function_files.krc_reader as krc_reader\n",
    "import function_files.filterSAEJ211 as filter\n",
    "\n"
   ]
  },
  {
   "cell_type": "code",
   "execution_count": 3,
   "metadata": {},
   "outputs": [
    {
     "name": "stdout",
     "output_type": "stream",
     "text": [
      "Replication ('US', 'SO000') is not present in the data, therefore it can't be removed.\n",
      "Replication ('US', 'SO019') is not present in the data, therefore it can't be removed.\n",
      "Replication ('US', 'SO095') is not present in the data, therefore it can't be removed.\n"
     ]
    }
   ],
   "source": [
    "\n",
    "\n",
    "\n",
    "### PRINTING SETTINGS ###\n",
    "sp.init_printing()\n",
    "\n",
    "\n",
    "### PARSING, READING AND CLEANING THE SIMULATION CHANNEL DATABASE ###\n",
    "\n",
    "base_path = os.path.join( osd_path, 'Dataset' )\n",
    "path_EU = os.path.join( base_path, 'EU2' )\n",
    "path_US = os.path.join( base_path, 'US' )\n",
    "# sim_repl_lib_paths = [ path_US  ]\n",
    "sim_repl_lib_paths = [ path_EU  ]\n",
    "\n",
    "krc_data_reader = krc_reader.KeyResultCurveDataReader( sim_repl_lib_paths )\n",
    "\n",
    "krc_data_reader.load_replications_results( moving_average_win_len=10 )\n",
    "krc_data_reader.get_channels_with_missing_data()\n",
    "krc_data_reader.remove_channels_from_all_replications( [ '11CHST0000H3DSX0' ] )\n",
    "krc_data_reader.get_channels_with_missing_data()\n",
    "krc_data_reader.remove_replications( [ ('US', 'SO000'), ('US', 'SO019'), ('US', 'SO095'), ('EU2', 'SO095') ] ) #('US', 'SO024'), ('US', 'SO056'),\n",
    "krc_data_reader.get_channels_with_missing_data()\n",
    "krc_data_reader.replications_with_not_1400_elements_removed()\n",
    "\n"
   ]
  },
  {
   "cell_type": "code",
   "execution_count": 4,
   "metadata": {},
   "outputs": [],
   "source": [
    "\n",
    "### READING RELEVANT CHANNELS FOR A SINGLE SIMULATION ###\n",
    "\n",
    "simulation_time_vals = krc_data_reader.get_time_values()\n",
    "simulation_channels_data = krc_data_reader.get_single_replication_results(('EU2', 'SO006'))\n",
    "\n",
    "# SLED\n",
    "filtered_sled_acx_data = filter.filterSAEJ211( simulation_channels_data['10SLEDFRMI00ACX0'], 6, 0.001 ) # SLED X direction\n",
    "sled_acceleration_data = np.array( filtered_sled_acx_data ) # mm/s^2\n",
    "# PELVIS\n",
    "filtered_pelv_acx_data = filter.filterSAEJ211( simulation_channels_data['11PELV0000H3ACX0'], 6, 0.001 ) # PELVIS X direction\n",
    "pelvis_acceleration_simu_x = np.array( filtered_pelv_acx_data ) # mm/s^2\n",
    "filtered_pelv_acy_data = filter.filterSAEJ211( simulation_channels_data['11PELV0000H3ACY0'], 6, 0.001 ) # PELVIS Y direction\n",
    "pelvis_acceleration_simu_y = np.array( filtered_pelv_acy_data ) # mm/s^2\n",
    "# CHST\n",
    "filtered_chst_acx_data = filter.filterSAEJ211( simulation_channels_data['11CHST0000H3ACX0'], 6, 0.001 )\n",
    "chest_acceleration_simu_x = np.array( filtered_chst_acx_data ) # mm/s^2\n",
    "filtered_chst_acy_data = filter.filterSAEJ211( simulation_channels_data['11CHST0000H3ACY0'], 6, 0.001 )\n",
    "chest_acceleration_simu_y = np.array( filtered_chst_acy_data ) # mm/s^2\n",
    "# HEAD\n",
    "filtered_head_acx_data = filter.filterSAEJ211( simulation_channels_data['11HEAD0000H3ACX0'], 6, 0.001 )\n",
    "head_acceleration_simu_x = np.array( filtered_head_acx_data ) # mm/s^2\n",
    "filtered_head_acy_data = filter.filterSAEJ211( simulation_channels_data['11HEAD0000H3ACY0'], 6, 0.001 )\n",
    "head_acceleration_simu_y = np.array( filtered_head_acy_data ) # mm/s^2\n"
   ]
  },
  {
   "cell_type": "code",
   "execution_count": 5,
   "metadata": {},
   "outputs": [
    {
     "name": "stdout",
     "output_type": "stream",
     "text": [
      "Solution of differential equation calculateed\n",
      "expr solution complete\n",
      "ddx:  <function _lambdifygenerated at 0x0000018979BECC10> \n",
      "ddphi:  <function _lambdifygenerated at 0x000001897A0695A0> \n",
      "ddtheta:  <function _lambdifygenerated at 0x0000018979FE9900>\n",
      "[ True  True  True ...  True  True  True]\n"
     ]
    }
   ],
   "source": [
    "\n",
    "### SYMBOLICALLY DERIVING THE MODELS EOMs AND DETERMINING THE SLED DISPLACEMENT ###\n",
    "\n",
    "# Symbolic part - Mechanical model \n",
    "l = 1.03*1000-180   # mm\n",
    "R = 9/100*1000           # mm\n",
    "m_1 = 34        # kg\n",
    "m_2 = 4         # kg\n",
    "ddx_num, ddphi_num, ddtheta_num = solv.lagrangian_fast2(m_1, m_2, l, R)   # data can be modified\n",
    "\n",
    "# Numerically integrating the SLED displacement from SLED acceleration\n",
    "t_values, sled_v, sled_d = solv.sled_acceleration_to_displacement( simulation_time_vals, sled_acceleration_data )\n",
    "gain = -1 * sled_d   # mm, minus sign: sled is pulled backwards, so it is moving in the negative direction in the global CS, but in the datafile, it was logged unsigned.\n",
    "\n",
    "### FIT MODEL PARAMETERS TO CHANNEL DATA ###\n",
    "\n",
    "channels_to_use = { \"pelvis\" : 1, \"chest\" : 0, \"head\" : 0 } # Values: 0 for exclude 1 for include\n",
    "y0 = np.array( [ 0, 0, 0, 0, 0, 0 ] )\n"
   ]
  },
  {
   "cell_type": "code",
   "execution_count": 8,
   "metadata": {},
   "outputs": [
    {
     "name": "stdout",
     "output_type": "stream",
     "text": [
      "Best grid result:\n",
      "Name          Value      Min      Max   Stderr     Vary     Expr Brute_Step\n",
      "k_1_init          0        0    1e+06     None     True     None    9e+05\n",
      "k_2_init          0        0    1e+06     None     True     None    9e+05\n",
      "kt_1_init         0        0    1e+06     None     True     None    9e+05\n",
      "kt_2_init     9e+05        0    1e+06     None     True     None    9e+05\n"
     ]
    }
   ],
   "source": [
    "from joblib import Parallel, delayed\n",
    "import lmfit\n",
    "\n",
    "# Define the function to perform grid search\n",
    "def grid_search(params):\n",
    "    return lmfit.minimize(lmfit_3dof.grid_search_obj_combined,\n",
    "                          params,\n",
    "                          method=\"brute\",\n",
    "                          args=(ddx_num, ddphi_num, ddtheta_num, gain, simulation_time_vals, pelvis_acceleration_simu_x, chest_acceleration_simu_x, head_acceleration_simu_x, y0, R, l, channels_to_use))\n",
    "params_grid = Parameters()\n",
    "# set up the initial parameter values\n",
    "params_grid.add('k_1_init', min=0, max = 1e6, value=0, vary = True, brute_step=9e5 ) # N/mm\n",
    "params_grid.add('k_2_init', min=0, max = 1e6, value=0, vary = True, brute_step=9e5 ) # N/mm\n",
    "params_grid.add('kt_1_init', min=0, max = 1e6, value=0, vary = True, brute_step=9e5 ) # Nmm/rad\n",
    "params_grid.add('kt_2_init', min=0, max = 1e6, value=0, vary = True, brute_step=9e5 ) # Nmm/rad\n",
    "\n",
    "# Create a list of parameter grids to evaluate in parallel\n",
    "params_list = [params_grid.copy() for _ in range(4)]  # Adjust the number of copies as needed\n",
    "\n",
    "# Perform parallel processing\n",
    "results = Parallel(n_jobs=-1)(delayed(grid_search)(params) for params in params_list)\n",
    "\n",
    "# Combine results\n",
    "best_result = min(results, key=lambda res: res.chisqr)\n",
    "print(\"Best grid result:\")\n",
    "best_result.params.pretty_print()"
   ]
  },
  {
   "cell_type": "code",
   "execution_count": 9,
   "metadata": {},
   "outputs": [
    {
     "ename": "KeyboardInterrupt",
     "evalue": "",
     "output_type": "error",
     "traceback": [
      "\u001b[1;31m---------------------------------------------------------------------------\u001b[0m",
      "\u001b[1;31mKeyboardInterrupt\u001b[0m                         Traceback (most recent call last)",
      "Cell \u001b[1;32mIn[9], line 18\u001b[0m\n\u001b[0;32m     15\u001b[0m params_list \u001b[38;5;241m=\u001b[39m [params_grid\u001b[38;5;241m.\u001b[39mcopy() \u001b[38;5;28;01mfor\u001b[39;00m _ \u001b[38;5;129;01min\u001b[39;00m \u001b[38;5;28mrange\u001b[39m(\u001b[38;5;241m4\u001b[39m)]  \u001b[38;5;66;03m# Adjust the number of copies as needed\u001b[39;00m\n\u001b[0;32m     17\u001b[0m \u001b[38;5;66;03m# Perform parallel processing\u001b[39;00m\n\u001b[1;32m---> 18\u001b[0m results \u001b[38;5;241m=\u001b[39m \u001b[43mParallel\u001b[49m\u001b[43m(\u001b[49m\u001b[43mn_jobs\u001b[49m\u001b[38;5;241;43m=\u001b[39;49m\u001b[38;5;241;43m-\u001b[39;49m\u001b[38;5;241;43m1\u001b[39;49m\u001b[43m)\u001b[49m\u001b[43m(\u001b[49m\u001b[43mdelayed\u001b[49m\u001b[43m(\u001b[49m\u001b[43mgrid_search\u001b[49m\u001b[43m)\u001b[49m\u001b[43m(\u001b[49m\u001b[43mparams\u001b[49m\u001b[43m)\u001b[49m\u001b[43m \u001b[49m\u001b[38;5;28;43;01mfor\u001b[39;49;00m\u001b[43m \u001b[49m\u001b[43mparams\u001b[49m\u001b[43m \u001b[49m\u001b[38;5;129;43;01min\u001b[39;49;00m\u001b[43m \u001b[49m\u001b[43mparams_list\u001b[49m\u001b[43m)\u001b[49m\n\u001b[0;32m     20\u001b[0m \u001b[38;5;66;03m# Combine results\u001b[39;00m\n\u001b[0;32m     21\u001b[0m best_result \u001b[38;5;241m=\u001b[39m \u001b[38;5;28mmin\u001b[39m(results, key\u001b[38;5;241m=\u001b[39m\u001b[38;5;28;01mlambda\u001b[39;00m res: res\u001b[38;5;241m.\u001b[39mchisqr)\n",
      "File \u001b[1;32mc:\\Users\\emmaf\\Documents\\7. félév\\SZAKDOLGOZAT\\osd_dummy_modeling_2\\osd_dummy_modeling\\venv\\lib\\site-packages\\joblib\\parallel.py:2007\u001b[0m, in \u001b[0;36mParallel.__call__\u001b[1;34m(self, iterable)\u001b[0m\n\u001b[0;32m   2001\u001b[0m \u001b[38;5;66;03m# The first item from the output is blank, but it makes the interpreter\u001b[39;00m\n\u001b[0;32m   2002\u001b[0m \u001b[38;5;66;03m# progress until it enters the Try/Except block of the generator and\u001b[39;00m\n\u001b[0;32m   2003\u001b[0m \u001b[38;5;66;03m# reaches the first `yield` statement. This starts the asynchronous\u001b[39;00m\n\u001b[0;32m   2004\u001b[0m \u001b[38;5;66;03m# dispatch of the tasks to the workers.\u001b[39;00m\n\u001b[0;32m   2005\u001b[0m \u001b[38;5;28mnext\u001b[39m(output)\n\u001b[1;32m-> 2007\u001b[0m \u001b[38;5;28;01mreturn\u001b[39;00m output \u001b[38;5;28;01mif\u001b[39;00m \u001b[38;5;28mself\u001b[39m\u001b[38;5;241m.\u001b[39mreturn_generator \u001b[38;5;28;01melse\u001b[39;00m \u001b[38;5;28;43mlist\u001b[39;49m\u001b[43m(\u001b[49m\u001b[43moutput\u001b[49m\u001b[43m)\u001b[49m\n",
      "File \u001b[1;32mc:\\Users\\emmaf\\Documents\\7. félév\\SZAKDOLGOZAT\\osd_dummy_modeling_2\\osd_dummy_modeling\\venv\\lib\\site-packages\\joblib\\parallel.py:1650\u001b[0m, in \u001b[0;36mParallel._get_outputs\u001b[1;34m(self, iterator, pre_dispatch)\u001b[0m\n\u001b[0;32m   1647\u001b[0m     \u001b[38;5;28;01myield\u001b[39;00m\n\u001b[0;32m   1649\u001b[0m     \u001b[38;5;28;01mwith\u001b[39;00m \u001b[38;5;28mself\u001b[39m\u001b[38;5;241m.\u001b[39m_backend\u001b[38;5;241m.\u001b[39mretrieval_context():\n\u001b[1;32m-> 1650\u001b[0m         \u001b[38;5;28;01myield from\u001b[39;00m \u001b[38;5;28mself\u001b[39m\u001b[38;5;241m.\u001b[39m_retrieve()\n\u001b[0;32m   1652\u001b[0m \u001b[38;5;28;01mexcept\u001b[39;00m \u001b[38;5;167;01mGeneratorExit\u001b[39;00m:\n\u001b[0;32m   1653\u001b[0m     \u001b[38;5;66;03m# The generator has been garbage collected before being fully\u001b[39;00m\n\u001b[0;32m   1654\u001b[0m     \u001b[38;5;66;03m# consumed. This aborts the remaining tasks if possible and warn\u001b[39;00m\n\u001b[0;32m   1655\u001b[0m     \u001b[38;5;66;03m# the user if necessary.\u001b[39;00m\n\u001b[0;32m   1656\u001b[0m     \u001b[38;5;28mself\u001b[39m\u001b[38;5;241m.\u001b[39m_exception \u001b[38;5;241m=\u001b[39m \u001b[38;5;28;01mTrue\u001b[39;00m\n",
      "File \u001b[1;32mc:\\Users\\emmaf\\Documents\\7. félév\\SZAKDOLGOZAT\\osd_dummy_modeling_2\\osd_dummy_modeling\\venv\\lib\\site-packages\\joblib\\parallel.py:1762\u001b[0m, in \u001b[0;36mParallel._retrieve\u001b[1;34m(self)\u001b[0m\n\u001b[0;32m   1757\u001b[0m \u001b[38;5;66;03m# If the next job is not ready for retrieval yet, we just wait for\u001b[39;00m\n\u001b[0;32m   1758\u001b[0m \u001b[38;5;66;03m# async callbacks to progress.\u001b[39;00m\n\u001b[0;32m   1759\u001b[0m \u001b[38;5;28;01mif\u001b[39;00m ((\u001b[38;5;28mlen\u001b[39m(\u001b[38;5;28mself\u001b[39m\u001b[38;5;241m.\u001b[39m_jobs) \u001b[38;5;241m==\u001b[39m \u001b[38;5;241m0\u001b[39m) \u001b[38;5;129;01mor\u001b[39;00m\n\u001b[0;32m   1760\u001b[0m     (\u001b[38;5;28mself\u001b[39m\u001b[38;5;241m.\u001b[39m_jobs[\u001b[38;5;241m0\u001b[39m]\u001b[38;5;241m.\u001b[39mget_status(\n\u001b[0;32m   1761\u001b[0m         timeout\u001b[38;5;241m=\u001b[39m\u001b[38;5;28mself\u001b[39m\u001b[38;5;241m.\u001b[39mtimeout) \u001b[38;5;241m==\u001b[39m TASK_PENDING)):\n\u001b[1;32m-> 1762\u001b[0m     \u001b[43mtime\u001b[49m\u001b[38;5;241;43m.\u001b[39;49m\u001b[43msleep\u001b[49m\u001b[43m(\u001b[49m\u001b[38;5;241;43m0.01\u001b[39;49m\u001b[43m)\u001b[49m\n\u001b[0;32m   1763\u001b[0m     \u001b[38;5;28;01mcontinue\u001b[39;00m\n\u001b[0;32m   1765\u001b[0m \u001b[38;5;66;03m# We need to be careful: the job list can be filling up as\u001b[39;00m\n\u001b[0;32m   1766\u001b[0m \u001b[38;5;66;03m# we empty it and Python list are not thread-safe by\u001b[39;00m\n\u001b[0;32m   1767\u001b[0m \u001b[38;5;66;03m# default hence the use of the lock\u001b[39;00m\n",
      "\u001b[1;31mKeyboardInterrupt\u001b[0m: "
     ]
    }
   ],
   "source": [
    "# Define the function to perform grid search\n",
    "def grid_search(params):\n",
    "    return lmfit.minimize(lmfit_3dof.grid_search_obj_combined,\n",
    "                          params,\n",
    "                          method=\"brute\",\n",
    "                          args=(ddx_num, ddphi_num, ddtheta_num, gain, simulation_time_vals, pelvis_acceleration_simu_x, chest_acceleration_simu_x, head_acceleration_simu_x, y0, R, l, channels_to_use))\n",
    "params_grid = Parameters()\n",
    "# set up the initial parameter values\n",
    "params_grid.add('k_1_init', min=0, max = 1e6, value=0, vary = True, brute_step=1e5 ) # N/mm\n",
    "params_grid.add('k_2_init', min=0, max = 1e6, value=0, vary = True, brute_step=1e5 ) # N/mm\n",
    "params_grid.add('kt_1_init', min=0, max = 1e6, value=0, vary = True, brute_step=1e5 ) # Nmm/rad\n",
    "params_grid.add('kt_2_init', min=0, max = 1e6, value=0, vary = True, brute_step=1e5 ) # Nmm/rad\n",
    "\n",
    "# Create a list of parameter grids to evaluate in parallel\n",
    "params_list = [params_grid.copy() for _ in range(4)]  # Adjust the number of copies as needed\n",
    "\n",
    "# Perform parallel processing\n",
    "results = Parallel(n_jobs=-1)(delayed(grid_search)(params) for params in params_list)\n",
    "\n",
    "# Combine results\n",
    "best_result = min(results, key=lambda res: res.chisqr)\n",
    "print(\"Best grid result:\")\n",
    "best_result.params.pretty_print()"
   ]
  },
  {
   "cell_type": "code",
   "execution_count": 7,
   "metadata": {},
   "outputs": [
    {
     "ename": "KeyboardInterrupt",
     "evalue": "",
     "output_type": "error",
     "traceback": [
      "\u001b[1;31m---------------------------------------------------------------------------\u001b[0m",
      "\u001b[1;31mKeyboardInterrupt\u001b[0m                         Traceback (most recent call last)",
      "Cell \u001b[1;32mIn[7], line 8\u001b[0m\n\u001b[0;32m      5\u001b[0m params_grid\u001b[38;5;241m.\u001b[39madd(\u001b[38;5;124m'\u001b[39m\u001b[38;5;124mkt_1_init\u001b[39m\u001b[38;5;124m'\u001b[39m, \u001b[38;5;28mmin\u001b[39m\u001b[38;5;241m=\u001b[39m\u001b[38;5;241m0\u001b[39m, \u001b[38;5;28mmax\u001b[39m \u001b[38;5;241m=\u001b[39m \u001b[38;5;241m1e6\u001b[39m, value\u001b[38;5;241m=\u001b[39m\u001b[38;5;241m0\u001b[39m, vary \u001b[38;5;241m=\u001b[39m \u001b[38;5;28;01mTrue\u001b[39;00m, brute_step\u001b[38;5;241m=\u001b[39m\u001b[38;5;241m9e5\u001b[39m ) \u001b[38;5;66;03m# Nmm/rad\u001b[39;00m\n\u001b[0;32m      6\u001b[0m params_grid\u001b[38;5;241m.\u001b[39madd(\u001b[38;5;124m'\u001b[39m\u001b[38;5;124mkt_2_init\u001b[39m\u001b[38;5;124m'\u001b[39m, \u001b[38;5;28mmin\u001b[39m\u001b[38;5;241m=\u001b[39m\u001b[38;5;241m0\u001b[39m, \u001b[38;5;28mmax\u001b[39m \u001b[38;5;241m=\u001b[39m \u001b[38;5;241m1e6\u001b[39m, value\u001b[38;5;241m=\u001b[39m\u001b[38;5;241m0\u001b[39m, vary \u001b[38;5;241m=\u001b[39m \u001b[38;5;28;01mTrue\u001b[39;00m, brute_step\u001b[38;5;241m=\u001b[39m\u001b[38;5;241m9e5\u001b[39m ) \u001b[38;5;66;03m# Nmm/rad\u001b[39;00m\n\u001b[1;32m----> 8\u001b[0m results_grid \u001b[38;5;241m=\u001b[39m \u001b[43mlmfit\u001b[49m\u001b[38;5;241;43m.\u001b[39;49m\u001b[43mminimize\u001b[49m\u001b[43m(\u001b[49m\u001b[43m \u001b[49m\u001b[43mlmfit_3dof\u001b[49m\u001b[38;5;241;43m.\u001b[39;49m\u001b[43mgrid_search_obj_combined\u001b[49m\u001b[43m,\u001b[49m\n\u001b[0;32m      9\u001b[0m \u001b[43m                               \u001b[49m\u001b[43mparams_grid\u001b[49m\u001b[43m,\u001b[49m\n\u001b[0;32m     10\u001b[0m \u001b[43m                               \u001b[49m\u001b[43mmethod\u001b[49m\u001b[43m \u001b[49m\u001b[38;5;241;43m=\u001b[39;49m\u001b[43m \u001b[49m\u001b[38;5;124;43m\"\u001b[39;49m\u001b[38;5;124;43mbrute\u001b[39;49m\u001b[38;5;124;43m\"\u001b[39;49m\u001b[43m,\u001b[49m\n\u001b[0;32m     11\u001b[0m \u001b[43m                               \u001b[49m\u001b[43margs\u001b[49m\u001b[38;5;241;43m=\u001b[39;49m\u001b[43m(\u001b[49m\u001b[43m \u001b[49m\u001b[43mddx_num\u001b[49m\u001b[43m,\u001b[49m\u001b[43m \u001b[49m\u001b[43mddphi_num\u001b[49m\u001b[43m,\u001b[49m\u001b[43m \u001b[49m\u001b[43mddtheta_num\u001b[49m\u001b[43m,\u001b[49m\u001b[43m \u001b[49m\u001b[43mgain\u001b[49m\u001b[43m,\u001b[49m\u001b[43m \u001b[49m\u001b[43msimulation_time_vals\u001b[49m\u001b[43m,\u001b[49m\u001b[43m \u001b[49m\u001b[43mpelvis_acceleration_simu_x\u001b[49m\u001b[43m,\u001b[49m\u001b[43m \u001b[49m\u001b[43mchest_acceleration_simu_x\u001b[49m\u001b[43m,\u001b[49m\u001b[43m \u001b[49m\u001b[43mhead_acceleration_simu_x\u001b[49m\u001b[43m,\u001b[49m\u001b[43m \u001b[49m\u001b[43my0\u001b[49m\u001b[43m,\u001b[49m\u001b[43m \u001b[49m\u001b[43mR\u001b[49m\u001b[43m,\u001b[49m\u001b[43m \u001b[49m\u001b[43ml\u001b[49m\u001b[43m,\u001b[49m\u001b[43m \u001b[49m\u001b[43mchannels_to_use\u001b[49m\u001b[43m \u001b[49m\u001b[43m)\u001b[49m\u001b[43m \u001b[49m\u001b[43m)\u001b[49m\n\u001b[0;32m     13\u001b[0m \u001b[38;5;28mprint\u001b[39m(\u001b[38;5;124m\"\u001b[39m\u001b[38;5;124mGrid results:\u001b[39m\u001b[38;5;124m\"\u001b[39m)\n\u001b[0;32m     14\u001b[0m results_grid\u001b[38;5;241m.\u001b[39mparams\u001b[38;5;241m.\u001b[39mpretty_print()\n",
      "File \u001b[1;32mc:\\Users\\emmaf\\Documents\\7. félév\\SZAKDOLGOZAT\\osd_dummy_modeling_2\\osd_dummy_modeling\\venv\\lib\\site-packages\\lmfit\\minimizer.py:2586\u001b[0m, in \u001b[0;36mminimize\u001b[1;34m(fcn, params, method, args, kws, iter_cb, scale_covar, nan_policy, reduce_fcn, calc_covar, max_nfev, **fit_kws)\u001b[0m\n\u001b[0;32m   2446\u001b[0m \u001b[38;5;250m\u001b[39m\u001b[38;5;124;03m\"\"\"Perform the minimization of the objective function.\u001b[39;00m\n\u001b[0;32m   2447\u001b[0m \n\u001b[0;32m   2448\u001b[0m \u001b[38;5;124;03mThe minimize function takes an objective function to be minimized,\u001b[39;00m\n\u001b[1;32m   (...)\u001b[0m\n\u001b[0;32m   2580\u001b[0m \n\u001b[0;32m   2581\u001b[0m \u001b[38;5;124;03m\"\"\"\u001b[39;00m\n\u001b[0;32m   2582\u001b[0m fitter \u001b[38;5;241m=\u001b[39m Minimizer(fcn, params, fcn_args\u001b[38;5;241m=\u001b[39margs, fcn_kws\u001b[38;5;241m=\u001b[39mkws,\n\u001b[0;32m   2583\u001b[0m                    iter_cb\u001b[38;5;241m=\u001b[39miter_cb, scale_covar\u001b[38;5;241m=\u001b[39mscale_covar,\n\u001b[0;32m   2584\u001b[0m                    nan_policy\u001b[38;5;241m=\u001b[39mnan_policy, reduce_fcn\u001b[38;5;241m=\u001b[39mreduce_fcn,\n\u001b[0;32m   2585\u001b[0m                    calc_covar\u001b[38;5;241m=\u001b[39mcalc_covar, max_nfev\u001b[38;5;241m=\u001b[39mmax_nfev, \u001b[38;5;241m*\u001b[39m\u001b[38;5;241m*\u001b[39mfit_kws)\n\u001b[1;32m-> 2586\u001b[0m \u001b[38;5;28;01mreturn\u001b[39;00m \u001b[43mfitter\u001b[49m\u001b[38;5;241;43m.\u001b[39;49m\u001b[43mminimize\u001b[49m\u001b[43m(\u001b[49m\u001b[43mmethod\u001b[49m\u001b[38;5;241;43m=\u001b[39;49m\u001b[43mmethod\u001b[49m\u001b[43m)\u001b[49m\n",
      "File \u001b[1;32mc:\\Users\\emmaf\\Documents\\7. félév\\SZAKDOLGOZAT\\osd_dummy_modeling_2\\osd_dummy_modeling\\venv\\lib\\site-packages\\lmfit\\minimizer.py:2330\u001b[0m, in \u001b[0;36mMinimizer.minimize\u001b[1;34m(self, method, params, **kws)\u001b[0m\n\u001b[0;32m   2327\u001b[0m         \u001b[38;5;28;01mif\u001b[39;00m (key\u001b[38;5;241m.\u001b[39mlower()\u001b[38;5;241m.\u001b[39mstartswith(user_method) \u001b[38;5;129;01mor\u001b[39;00m\n\u001b[0;32m   2328\u001b[0m                 val\u001b[38;5;241m.\u001b[39mlower()\u001b[38;5;241m.\u001b[39mstartswith(user_method)):\n\u001b[0;32m   2329\u001b[0m             kwargs[\u001b[38;5;124m'\u001b[39m\u001b[38;5;124mmethod\u001b[39m\u001b[38;5;124m'\u001b[39m] \u001b[38;5;241m=\u001b[39m val\n\u001b[1;32m-> 2330\u001b[0m \u001b[38;5;28;01mreturn\u001b[39;00m function(\u001b[38;5;241m*\u001b[39m\u001b[38;5;241m*\u001b[39mkwargs)\n",
      "File \u001b[1;32mc:\\Users\\emmaf\\Documents\\7. félév\\SZAKDOLGOZAT\\osd_dummy_modeling_2\\osd_dummy_modeling\\venv\\lib\\site-packages\\lmfit\\minimizer.py:1897\u001b[0m, in \u001b[0;36mMinimizer.brute\u001b[1;34m(self, params, Ns, keep, workers, max_nfev)\u001b[0m\n\u001b[0;32m   1895\u001b[0m result\u001b[38;5;241m.\u001b[39mcall_kws \u001b[38;5;241m=\u001b[39m brute_kws\n\u001b[0;32m   1896\u001b[0m \u001b[38;5;28;01mtry\u001b[39;00m:\n\u001b[1;32m-> 1897\u001b[0m     ret \u001b[38;5;241m=\u001b[39m scipy_brute(\u001b[38;5;28mself\u001b[39m\u001b[38;5;241m.\u001b[39mpenalty, \u001b[38;5;28mtuple\u001b[39m(ranges), \u001b[38;5;241m*\u001b[39m\u001b[38;5;241m*\u001b[39mbrute_kws)\n\u001b[0;32m   1898\u001b[0m \u001b[38;5;28;01mexcept\u001b[39;00m AbortFitException:\n\u001b[0;32m   1899\u001b[0m     \u001b[38;5;28;01mpass\u001b[39;00m\n",
      "File \u001b[1;32mc:\\Users\\emmaf\\Documents\\7. félév\\SZAKDOLGOZAT\\osd_dummy_modeling_2\\osd_dummy_modeling\\venv\\lib\\site-packages\\scipy\\optimize\\_optimize.py:3797\u001b[0m, in \u001b[0;36mbrute\u001b[1;34m(func, ranges, args, Ns, full_output, finish, disp, workers)\u001b[0m\n\u001b[0;32m   3795\u001b[0m \u001b[38;5;66;03m# iterate over input arrays, possibly in parallel\u001b[39;00m\n\u001b[0;32m   3796\u001b[0m \u001b[38;5;28;01mwith\u001b[39;00m MapWrapper(pool\u001b[38;5;241m=\u001b[39mworkers) \u001b[38;5;28;01mas\u001b[39;00m mapper:\n\u001b[1;32m-> 3797\u001b[0m     Jout \u001b[38;5;241m=\u001b[39m np\u001b[38;5;241m.\u001b[39marray(\u001b[38;5;28;43mlist\u001b[39;49m\u001b[43m(\u001b[49m\u001b[43mmapper\u001b[49m\u001b[43m(\u001b[49m\u001b[43mwrapped_func\u001b[49m\u001b[43m,\u001b[49m\u001b[43m \u001b[49m\u001b[43mgrid\u001b[49m\u001b[43m)\u001b[49m\u001b[43m)\u001b[49m)\n\u001b[0;32m   3798\u001b[0m     \u001b[38;5;28;01mif\u001b[39;00m (N \u001b[38;5;241m==\u001b[39m \u001b[38;5;241m1\u001b[39m):\n\u001b[0;32m   3799\u001b[0m         grid \u001b[38;5;241m=\u001b[39m (grid,)\n",
      "File \u001b[1;32mc:\\Users\\emmaf\\Documents\\7. félév\\SZAKDOLGOZAT\\osd_dummy_modeling_2\\osd_dummy_modeling\\venv\\lib\\site-packages\\scipy\\optimize\\_optimize.py:3869\u001b[0m, in \u001b[0;36m_Brute_Wrapper.__call__\u001b[1;34m(self, x)\u001b[0m\n\u001b[0;32m   3867\u001b[0m \u001b[38;5;28;01mdef\u001b[39;00m \u001b[38;5;21m__call__\u001b[39m(\u001b[38;5;28mself\u001b[39m, x):\n\u001b[0;32m   3868\u001b[0m     \u001b[38;5;66;03m# flatten needed for one dimensional case.\u001b[39;00m\n\u001b[1;32m-> 3869\u001b[0m     \u001b[38;5;28;01mreturn\u001b[39;00m \u001b[38;5;28;43mself\u001b[39;49m\u001b[38;5;241;43m.\u001b[39;49m\u001b[43mf\u001b[49m\u001b[43m(\u001b[49m\u001b[43mnp\u001b[49m\u001b[38;5;241;43m.\u001b[39;49m\u001b[43masarray\u001b[49m\u001b[43m(\u001b[49m\u001b[43mx\u001b[49m\u001b[43m)\u001b[49m\u001b[38;5;241;43m.\u001b[39;49m\u001b[43mflatten\u001b[49m\u001b[43m(\u001b[49m\u001b[43m)\u001b[49m\u001b[43m,\u001b[49m\u001b[43m \u001b[49m\u001b[38;5;241;43m*\u001b[39;49m\u001b[38;5;28;43mself\u001b[39;49m\u001b[38;5;241;43m.\u001b[39;49m\u001b[43margs\u001b[49m\u001b[43m)\u001b[49m\n",
      "File \u001b[1;32mc:\\Users\\emmaf\\Documents\\7. félév\\SZAKDOLGOZAT\\osd_dummy_modeling_2\\osd_dummy_modeling\\venv\\lib\\site-packages\\lmfit\\minimizer.py:607\u001b[0m, in \u001b[0;36mMinimizer.penalty\u001b[1;34m(self, fvars)\u001b[0m\n\u001b[0;32m    604\u001b[0m \u001b[38;5;28;01melse\u001b[39;00m:\n\u001b[0;32m    605\u001b[0m     apply_bounds_transformation \u001b[38;5;241m=\u001b[39m \u001b[38;5;28;01mTrue\u001b[39;00m\n\u001b[1;32m--> 607\u001b[0m r \u001b[38;5;241m=\u001b[39m \u001b[38;5;28;43mself\u001b[39;49m\u001b[38;5;241;43m.\u001b[39;49m\u001b[43m__residual\u001b[49m\u001b[43m(\u001b[49m\u001b[43mfvars\u001b[49m\u001b[43m,\u001b[49m\u001b[43m \u001b[49m\u001b[43mapply_bounds_transformation\u001b[49m\u001b[43m)\u001b[49m\n\u001b[0;32m    608\u001b[0m \u001b[38;5;28;01mif\u001b[39;00m \u001b[38;5;28misinstance\u001b[39m(r, np\u001b[38;5;241m.\u001b[39mndarray) \u001b[38;5;129;01mand\u001b[39;00m r\u001b[38;5;241m.\u001b[39msize \u001b[38;5;241m>\u001b[39m \u001b[38;5;241m1\u001b[39m:\n\u001b[0;32m    609\u001b[0m     r \u001b[38;5;241m=\u001b[39m \u001b[38;5;28mself\u001b[39m\u001b[38;5;241m.\u001b[39mreduce_fcn(r)\n",
      "File \u001b[1;32mc:\\Users\\emmaf\\Documents\\7. félév\\SZAKDOLGOZAT\\osd_dummy_modeling_2\\osd_dummy_modeling\\venv\\lib\\site-packages\\lmfit\\minimizer.py:540\u001b[0m, in \u001b[0;36mMinimizer.__residual\u001b[1;34m(self, fvars, apply_bounds_transformation)\u001b[0m\n\u001b[0;32m    537\u001b[0m     \u001b[38;5;28mself\u001b[39m\u001b[38;5;241m.\u001b[39mresult\u001b[38;5;241m.\u001b[39msuccess \u001b[38;5;241m=\u001b[39m \u001b[38;5;28;01mFalse\u001b[39;00m\n\u001b[0;32m    538\u001b[0m     \u001b[38;5;28;01mraise\u001b[39;00m AbortFitException(\u001b[38;5;124mf\u001b[39m\u001b[38;5;124m\"\u001b[39m\u001b[38;5;124mfit aborted: too many function evaluations \u001b[39m\u001b[38;5;132;01m{\u001b[39;00m\u001b[38;5;28mself\u001b[39m\u001b[38;5;241m.\u001b[39mmax_nfev\u001b[38;5;132;01m}\u001b[39;00m\u001b[38;5;124m\"\u001b[39m)\n\u001b[1;32m--> 540\u001b[0m out \u001b[38;5;241m=\u001b[39m \u001b[38;5;28mself\u001b[39m\u001b[38;5;241m.\u001b[39muserfcn(params, \u001b[38;5;241m*\u001b[39m\u001b[38;5;28mself\u001b[39m\u001b[38;5;241m.\u001b[39muserargs, \u001b[38;5;241m*\u001b[39m\u001b[38;5;241m*\u001b[39m\u001b[38;5;28mself\u001b[39m\u001b[38;5;241m.\u001b[39muserkws)\n\u001b[0;32m    542\u001b[0m \u001b[38;5;28;01mif\u001b[39;00m \u001b[38;5;28mcallable\u001b[39m(\u001b[38;5;28mself\u001b[39m\u001b[38;5;241m.\u001b[39miter_cb):\n\u001b[0;32m    543\u001b[0m     abort \u001b[38;5;241m=\u001b[39m \u001b[38;5;28mself\u001b[39m\u001b[38;5;241m.\u001b[39miter_cb(params, \u001b[38;5;28mself\u001b[39m\u001b[38;5;241m.\u001b[39mresult\u001b[38;5;241m.\u001b[39mnfev, out,\n\u001b[0;32m    544\u001b[0m                          \u001b[38;5;241m*\u001b[39m\u001b[38;5;28mself\u001b[39m\u001b[38;5;241m.\u001b[39muserargs, \u001b[38;5;241m*\u001b[39m\u001b[38;5;241m*\u001b[39m\u001b[38;5;28mself\u001b[39m\u001b[38;5;241m.\u001b[39muserkws)\n",
      "File \u001b[1;32mc:\\Users\\emmaf\\Documents\\7. félév\\SZAKDOLGOZAT\\osd_dummy_modeling_2\\osd_dummy_modeling\\model2_3dof_multibody\\lmfit_3dof.py:40\u001b[0m, in \u001b[0;36mgrid_search_obj_combined\u001b[1;34m(params_init_vals, ddx_num, ddphi_num, ddtheta_num, sled_disp, simulation_time_vals, data_pelv, data_chest, data_head, y0, R, l, channels_to_use)\u001b[0m\n\u001b[0;32m     37\u001b[0m params\u001b[38;5;241m.\u001b[39madd(\u001b[38;5;124m'\u001b[39m\u001b[38;5;124mkt_1\u001b[39m\u001b[38;5;124m'\u001b[39m, \u001b[38;5;28mmin\u001b[39m\u001b[38;5;241m=\u001b[39m\u001b[38;5;241m0\u001b[39m, \u001b[38;5;28mmax\u001b[39m \u001b[38;5;241m=\u001b[39m \u001b[38;5;241m1e7\u001b[39m, value\u001b[38;5;241m=\u001b[39mkt_1_init, vary \u001b[38;5;241m=\u001b[39m \u001b[38;5;28;01mTrue\u001b[39;00m ) \u001b[38;5;66;03m# Nmm/rad\u001b[39;00m\n\u001b[0;32m     38\u001b[0m params\u001b[38;5;241m.\u001b[39madd(\u001b[38;5;124m'\u001b[39m\u001b[38;5;124mkt_2\u001b[39m\u001b[38;5;124m'\u001b[39m, \u001b[38;5;28mmin\u001b[39m\u001b[38;5;241m=\u001b[39m\u001b[38;5;241m0\u001b[39m, \u001b[38;5;28mmax\u001b[39m \u001b[38;5;241m=\u001b[39m \u001b[38;5;241m1e7\u001b[39m, value\u001b[38;5;241m=\u001b[39mkt_2_init, vary \u001b[38;5;241m=\u001b[39m \u001b[38;5;28;01mTrue\u001b[39;00m ) \u001b[38;5;66;03m# Nmm/rad \u001b[39;00m\n\u001b[1;32m---> 40\u001b[0m results \u001b[38;5;241m=\u001b[39m \u001b[43mlmfit\u001b[49m\u001b[38;5;241;43m.\u001b[39;49m\u001b[43mminimize\u001b[49m\u001b[43m(\u001b[49m\u001b[43m \u001b[49m\u001b[43mcombined_obj_function\u001b[49m\u001b[43m,\u001b[49m\u001b[43m \u001b[49m\u001b[43mparams\u001b[49m\u001b[43m,\u001b[49m\u001b[43m \u001b[49m\u001b[38;5;124;43m\"\u001b[39;49m\u001b[38;5;124;43mleast_squares\u001b[39;49m\u001b[38;5;124;43m\"\u001b[39;49m\u001b[43m,\u001b[49m\u001b[43m \u001b[49m\u001b[43margs\u001b[49m\u001b[38;5;241;43m=\u001b[39;49m\u001b[43m(\u001b[49m\u001b[43m \u001b[49m\u001b[43mddx_num\u001b[49m\u001b[43m,\u001b[49m\u001b[43m \u001b[49m\u001b[43mddphi_num\u001b[49m\u001b[43m,\u001b[49m\u001b[43m \u001b[49m\u001b[43mddtheta_num\u001b[49m\u001b[43m,\u001b[49m\u001b[43m \u001b[49m\u001b[43msled_disp\u001b[49m\u001b[43m,\u001b[49m\u001b[43m \u001b[49m\u001b[43msimulation_time_vals\u001b[49m\u001b[43m,\u001b[49m\u001b[43m \u001b[49m\u001b[43mdata_pelv\u001b[49m\u001b[43m,\u001b[49m\u001b[43m \u001b[49m\u001b[43mdata_chest\u001b[49m\u001b[43m,\u001b[49m\u001b[43m \u001b[49m\u001b[43mdata_head\u001b[49m\u001b[43m,\u001b[49m\u001b[43m \u001b[49m\u001b[43my0\u001b[49m\u001b[43m,\u001b[49m\u001b[43m \u001b[49m\u001b[43mR\u001b[49m\u001b[43m,\u001b[49m\u001b[43m \u001b[49m\u001b[43ml\u001b[49m\u001b[43m,\u001b[49m\u001b[43m \u001b[49m\u001b[43mchannels_to_use\u001b[49m\u001b[43m \u001b[49m\u001b[43m)\u001b[49m\u001b[43m \u001b[49m\u001b[43m)\u001b[49m\n\u001b[0;32m     42\u001b[0m \u001b[38;5;28;01mreturn\u001b[39;00m \u001b[38;5;28msum\u001b[39m( results\u001b[38;5;241m.\u001b[39mresidual )\n",
      "File \u001b[1;32mc:\\Users\\emmaf\\Documents\\7. félév\\SZAKDOLGOZAT\\osd_dummy_modeling_2\\osd_dummy_modeling\\venv\\lib\\site-packages\\lmfit\\minimizer.py:2586\u001b[0m, in \u001b[0;36mminimize\u001b[1;34m(fcn, params, method, args, kws, iter_cb, scale_covar, nan_policy, reduce_fcn, calc_covar, max_nfev, **fit_kws)\u001b[0m\n\u001b[0;32m   2446\u001b[0m \u001b[38;5;250m\u001b[39m\u001b[38;5;124;03m\"\"\"Perform the minimization of the objective function.\u001b[39;00m\n\u001b[0;32m   2447\u001b[0m \n\u001b[0;32m   2448\u001b[0m \u001b[38;5;124;03mThe minimize function takes an objective function to be minimized,\u001b[39;00m\n\u001b[1;32m   (...)\u001b[0m\n\u001b[0;32m   2580\u001b[0m \n\u001b[0;32m   2581\u001b[0m \u001b[38;5;124;03m\"\"\"\u001b[39;00m\n\u001b[0;32m   2582\u001b[0m fitter \u001b[38;5;241m=\u001b[39m Minimizer(fcn, params, fcn_args\u001b[38;5;241m=\u001b[39margs, fcn_kws\u001b[38;5;241m=\u001b[39mkws,\n\u001b[0;32m   2583\u001b[0m                    iter_cb\u001b[38;5;241m=\u001b[39miter_cb, scale_covar\u001b[38;5;241m=\u001b[39mscale_covar,\n\u001b[0;32m   2584\u001b[0m                    nan_policy\u001b[38;5;241m=\u001b[39mnan_policy, reduce_fcn\u001b[38;5;241m=\u001b[39mreduce_fcn,\n\u001b[0;32m   2585\u001b[0m                    calc_covar\u001b[38;5;241m=\u001b[39mcalc_covar, max_nfev\u001b[38;5;241m=\u001b[39mmax_nfev, \u001b[38;5;241m*\u001b[39m\u001b[38;5;241m*\u001b[39mfit_kws)\n\u001b[1;32m-> 2586\u001b[0m \u001b[38;5;28;01mreturn\u001b[39;00m \u001b[43mfitter\u001b[49m\u001b[38;5;241;43m.\u001b[39;49m\u001b[43mminimize\u001b[49m\u001b[43m(\u001b[49m\u001b[43mmethod\u001b[49m\u001b[38;5;241;43m=\u001b[39;49m\u001b[43mmethod\u001b[49m\u001b[43m)\u001b[49m\n",
      "File \u001b[1;32mc:\\Users\\emmaf\\Documents\\7. félév\\SZAKDOLGOZAT\\osd_dummy_modeling_2\\osd_dummy_modeling\\venv\\lib\\site-packages\\lmfit\\minimizer.py:2330\u001b[0m, in \u001b[0;36mMinimizer.minimize\u001b[1;34m(self, method, params, **kws)\u001b[0m\n\u001b[0;32m   2327\u001b[0m         \u001b[38;5;28;01mif\u001b[39;00m (key\u001b[38;5;241m.\u001b[39mlower()\u001b[38;5;241m.\u001b[39mstartswith(user_method) \u001b[38;5;129;01mor\u001b[39;00m\n\u001b[0;32m   2328\u001b[0m                 val\u001b[38;5;241m.\u001b[39mlower()\u001b[38;5;241m.\u001b[39mstartswith(user_method)):\n\u001b[0;32m   2329\u001b[0m             kwargs[\u001b[38;5;124m'\u001b[39m\u001b[38;5;124mmethod\u001b[39m\u001b[38;5;124m'\u001b[39m] \u001b[38;5;241m=\u001b[39m val\n\u001b[1;32m-> 2330\u001b[0m \u001b[38;5;28;01mreturn\u001b[39;00m function(\u001b[38;5;241m*\u001b[39m\u001b[38;5;241m*\u001b[39mkwargs)\n",
      "File \u001b[1;32mc:\\Users\\emmaf\\Documents\\7. félév\\SZAKDOLGOZAT\\osd_dummy_modeling_2\\osd_dummy_modeling\\venv\\lib\\site-packages\\lmfit\\minimizer.py:1552\u001b[0m, in \u001b[0;36mMinimizer.least_squares\u001b[1;34m(self, params, max_nfev, **kws)\u001b[0m\n\u001b[0;32m   1550\u001b[0m \u001b[38;5;28;01mif\u001b[39;00m \u001b[38;5;129;01mnot\u001b[39;00m result\u001b[38;5;241m.\u001b[39maborted:\n\u001b[0;32m   1551\u001b[0m     result\u001b[38;5;241m.\u001b[39mnfev \u001b[38;5;241m-\u001b[39m\u001b[38;5;241m=\u001b[39m \u001b[38;5;241m1\u001b[39m\n\u001b[1;32m-> 1552\u001b[0m     result\u001b[38;5;241m.\u001b[39mresidual \u001b[38;5;241m=\u001b[39m \u001b[38;5;28;43mself\u001b[39;49m\u001b[38;5;241;43m.\u001b[39;49m\u001b[43m__residual\u001b[49m\u001b[43m(\u001b[49m\u001b[43mret\u001b[49m\u001b[38;5;241;43m.\u001b[39;49m\u001b[43mx\u001b[49m\u001b[43m,\u001b[49m\u001b[43m \u001b[49m\u001b[38;5;28;43;01mFalse\u001b[39;49;00m\u001b[43m)\u001b[49m\n\u001b[0;32m   1553\u001b[0m \u001b[38;5;28;01melif\u001b[39;00m result\u001b[38;5;241m.\u001b[39mnfev \u001b[38;5;241m>\u001b[39m \u001b[38;5;28mself\u001b[39m\u001b[38;5;241m.\u001b[39mmax_nfev\u001b[38;5;241m-\u001b[39m\u001b[38;5;241m5\u001b[39m:\n\u001b[0;32m   1554\u001b[0m     result\u001b[38;5;241m.\u001b[39mnfev \u001b[38;5;241m-\u001b[39m\u001b[38;5;241m=\u001b[39m \u001b[38;5;241m2\u001b[39m\n",
      "File \u001b[1;32mc:\\Users\\emmaf\\Documents\\7. félév\\SZAKDOLGOZAT\\osd_dummy_modeling_2\\osd_dummy_modeling\\venv\\lib\\site-packages\\lmfit\\minimizer.py:540\u001b[0m, in \u001b[0;36mMinimizer.__residual\u001b[1;34m(self, fvars, apply_bounds_transformation)\u001b[0m\n\u001b[0;32m    537\u001b[0m     \u001b[38;5;28mself\u001b[39m\u001b[38;5;241m.\u001b[39mresult\u001b[38;5;241m.\u001b[39msuccess \u001b[38;5;241m=\u001b[39m \u001b[38;5;28;01mFalse\u001b[39;00m\n\u001b[0;32m    538\u001b[0m     \u001b[38;5;28;01mraise\u001b[39;00m AbortFitException(\u001b[38;5;124mf\u001b[39m\u001b[38;5;124m\"\u001b[39m\u001b[38;5;124mfit aborted: too many function evaluations \u001b[39m\u001b[38;5;132;01m{\u001b[39;00m\u001b[38;5;28mself\u001b[39m\u001b[38;5;241m.\u001b[39mmax_nfev\u001b[38;5;132;01m}\u001b[39;00m\u001b[38;5;124m\"\u001b[39m)\n\u001b[1;32m--> 540\u001b[0m out \u001b[38;5;241m=\u001b[39m \u001b[38;5;28mself\u001b[39m\u001b[38;5;241m.\u001b[39muserfcn(params, \u001b[38;5;241m*\u001b[39m\u001b[38;5;28mself\u001b[39m\u001b[38;5;241m.\u001b[39muserargs, \u001b[38;5;241m*\u001b[39m\u001b[38;5;241m*\u001b[39m\u001b[38;5;28mself\u001b[39m\u001b[38;5;241m.\u001b[39muserkws)\n\u001b[0;32m    542\u001b[0m \u001b[38;5;28;01mif\u001b[39;00m \u001b[38;5;28mcallable\u001b[39m(\u001b[38;5;28mself\u001b[39m\u001b[38;5;241m.\u001b[39miter_cb):\n\u001b[0;32m    543\u001b[0m     abort \u001b[38;5;241m=\u001b[39m \u001b[38;5;28mself\u001b[39m\u001b[38;5;241m.\u001b[39miter_cb(params, \u001b[38;5;28mself\u001b[39m\u001b[38;5;241m.\u001b[39mresult\u001b[38;5;241m.\u001b[39mnfev, out,\n\u001b[0;32m    544\u001b[0m                          \u001b[38;5;241m*\u001b[39m\u001b[38;5;28mself\u001b[39m\u001b[38;5;241m.\u001b[39muserargs, \u001b[38;5;241m*\u001b[39m\u001b[38;5;241m*\u001b[39m\u001b[38;5;28mself\u001b[39m\u001b[38;5;241m.\u001b[39muserkws)\n",
      "File \u001b[1;32mc:\\Users\\emmaf\\Documents\\7. félév\\SZAKDOLGOZAT\\osd_dummy_modeling_2\\osd_dummy_modeling\\model2_3dof_multibody\\lmfit_3dof.py:21\u001b[0m, in \u001b[0;36mcombined_obj_function\u001b[1;34m(params, ddx_num, ddphi_num, ddtheta_num, sled_disp, simulation_time_vals, data_pelv, data_chest, data_head, y0, R, l, channels_to_use)\u001b[0m\n\u001b[0;32m     17\u001b[0m k_2 \u001b[38;5;241m=\u001b[39m params[\u001b[38;5;124m'\u001b[39m\u001b[38;5;124mk_2\u001b[39m\u001b[38;5;124m'\u001b[39m]\n\u001b[0;32m     18\u001b[0m kt_2 \u001b[38;5;241m=\u001b[39m params[\u001b[38;5;124m'\u001b[39m\u001b[38;5;124mkt_2\u001b[39m\u001b[38;5;124m'\u001b[39m]\n\u001b[0;32m     20\u001b[0m a_pelvis_x, a_pelvis_y, a_chest_x, a_chest_y, a_head_x, a_head_y \u001b[38;5;241m=\u001b[39m \\\n\u001b[1;32m---> 21\u001b[0m     \u001b[43msolv\u001b[49m\u001b[38;5;241;43m.\u001b[39;49m\u001b[43mcalculate_acceleration_components_for_all_body_parts\u001b[49m\u001b[43m(\u001b[49m\u001b[43m \u001b[49m\u001b[43mddx_num\u001b[49m\u001b[43m,\u001b[49m\u001b[43m \u001b[49m\u001b[43mddphi_num\u001b[49m\u001b[43m,\u001b[49m\u001b[43m \u001b[49m\u001b[43mddtheta_num\u001b[49m\u001b[43m,\u001b[49m\u001b[43m \u001b[49m\u001b[43msled_disp\u001b[49m\u001b[43m,\u001b[49m\u001b[43m \u001b[49m\u001b[43msimulation_time_vals\u001b[49m\u001b[43m,\u001b[49m\u001b[43m \u001b[49m\u001b[43my0\u001b[49m\u001b[43m,\u001b[49m\u001b[43m \u001b[49m\u001b[43mk_1\u001b[49m\u001b[43m,\u001b[49m\u001b[43m \u001b[49m\u001b[43mk_2\u001b[49m\u001b[43m,\u001b[49m\u001b[43m \u001b[49m\u001b[43mkt_1\u001b[49m\u001b[43m,\u001b[49m\u001b[43m \u001b[49m\u001b[43mkt_2\u001b[49m\u001b[43m,\u001b[49m\u001b[43m \u001b[49m\u001b[43mR\u001b[49m\u001b[43m,\u001b[49m\u001b[43m \u001b[49m\u001b[43ml\u001b[49m\u001b[43m \u001b[49m\u001b[43m)\u001b[49m\n\u001b[0;32m     23\u001b[0m \u001b[38;5;28;01mreturn\u001b[39;00m channels_to_use[\u001b[38;5;124m\"\u001b[39m\u001b[38;5;124mpelvis\u001b[39m\u001b[38;5;124m\"\u001b[39m] \u001b[38;5;241m*\u001b[39m ( data_pelv \u001b[38;5;241m-\u001b[39m a_pelvis_x )\u001b[38;5;241m*\u001b[39m\u001b[38;5;241m*\u001b[39m\u001b[38;5;241m2\u001b[39m  \u001b[38;5;241m+\u001b[39m channels_to_use[\u001b[38;5;124m\"\u001b[39m\u001b[38;5;124mchest\u001b[39m\u001b[38;5;124m\"\u001b[39m] \u001b[38;5;241m*\u001b[39m ( data_chest \u001b[38;5;241m-\u001b[39m a_chest_x )\u001b[38;5;241m*\u001b[39m\u001b[38;5;241m*\u001b[39m\u001b[38;5;241m2\u001b[39m \u001b[38;5;241m+\u001b[39m channels_to_use[\u001b[38;5;124m\"\u001b[39m\u001b[38;5;124mhead\u001b[39m\u001b[38;5;124m\"\u001b[39m] \u001b[38;5;241m*\u001b[39m ( data_head \u001b[38;5;241m-\u001b[39m a_head_x )\u001b[38;5;241m*\u001b[39m\u001b[38;5;241m*\u001b[39m\u001b[38;5;241m2\u001b[39m\n",
      "File \u001b[1;32mc:\\Users\\emmaf\\Documents\\7. félév\\SZAKDOLGOZAT\\osd_dummy_modeling_2\\osd_dummy_modeling\\model2_3dof_multibody\\equation_solver_3DoF.py:497\u001b[0m, in \u001b[0;36mcalculate_acceleration_components_for_all_body_parts\u001b[1;34m(ddx_num, ddphi_num, ddtheta_num, sled_disp, sim_time, y0, k_1, k_2, kt_1, kt_2, R, l)\u001b[0m\n\u001b[0;32m    494\u001b[0m \u001b[38;5;28;01mdef\u001b[39;00m \u001b[38;5;21mcalculate_acceleration_components_for_all_body_parts\u001b[39m( ddx_num, ddphi_num, ddtheta_num, sled_disp, sim_time, y0, k_1, k_2, kt_1, kt_2, R, l ):\n\u001b[0;32m    496\u001b[0m     x_computed, dx_computed, phi_computed, dphi_computed, theta_computed, dtheta_computed, t_computed \u001b[38;5;241m=\u001b[39m \\\n\u001b[1;32m--> 497\u001b[0m         \u001b[43mnum_solver\u001b[49m\u001b[43m(\u001b[49m\u001b[43mddx_num\u001b[49m\u001b[43m,\u001b[49m\u001b[43m \u001b[49m\u001b[43mddphi_num\u001b[49m\u001b[43m,\u001b[49m\u001b[43m \u001b[49m\u001b[43mddtheta_num\u001b[49m\u001b[43m,\u001b[49m\u001b[43m \u001b[49m\u001b[43msled_disp\u001b[49m\u001b[43m,\u001b[49m\u001b[43m \u001b[49m\u001b[43msim_time\u001b[49m\u001b[43m,\u001b[49m\u001b[43m \u001b[49m\u001b[43my0\u001b[49m\u001b[43m,\u001b[49m\u001b[43m \u001b[49m\u001b[43mk_1\u001b[49m\u001b[43m,\u001b[49m\u001b[43m \u001b[49m\u001b[43mkt_1\u001b[49m\u001b[43m,\u001b[49m\u001b[43m \u001b[49m\u001b[43mk_2\u001b[49m\u001b[43m,\u001b[49m\u001b[43m \u001b[49m\u001b[43mkt_2\u001b[49m\u001b[43m)\u001b[49m \u001b[38;5;66;03m# displacements in mm, velocities in mm/s\u001b[39;00m\n\u001b[0;32m    499\u001b[0m     a_pelvis_x, ddphi_computed, ddtheta_computed \u001b[38;5;241m=\u001b[39m \\\n\u001b[0;32m    500\u001b[0m         acceleration_substituted(ddx_num, ddphi_num, ddtheta_num, sled_disp, sim_time, y0,  k_1, k_2, kt_1, kt_2)\n\u001b[0;32m    502\u001b[0m     a_pelvis_y \u001b[38;5;241m=\u001b[39m np\u001b[38;5;241m.\u001b[39mzeros_like( a_pelvis_x )\n",
      "File \u001b[1;32mc:\\Users\\emmaf\\Documents\\7. félév\\SZAKDOLGOZAT\\osd_dummy_modeling_2\\osd_dummy_modeling\\model2_3dof_multibody\\equation_solver_3DoF.py:456\u001b[0m, in \u001b[0;36mnum_solver\u001b[1;34m(ddx_num, ddphi_num, ddtheta_num, gain_input, time_input, y0, k_1, kt_1, k_2, kt_2)\u001b[0m\n\u001b[0;32m    453\u001b[0m     ddtheta_val \u001b[38;5;241m=\u001b[39m \u001b[38;5;28mfloat\u001b[39m(ddtheta_num(t, x_val, dx_val, phi_val, dphi_val, theta_val, dtheta_val, r, k_1, k_2, kt_1, kt_2))\n\u001b[0;32m    454\u001b[0m     \u001b[38;5;28;01mreturn\u001b[39;00m [dx_val, ddx_val, dphi_val, ddphi_val, dtheta_val, ddtheta_val]\n\u001b[1;32m--> 456\u001b[0m solution \u001b[38;5;241m=\u001b[39m \u001b[43msolve_ivp\u001b[49m\u001b[43m(\u001b[49m\u001b[43m \u001b[49m\u001b[43msystem\u001b[49m\u001b[43m,\u001b[49m\u001b[43m \u001b[49m\u001b[43m(\u001b[49m\u001b[43m \u001b[49m\u001b[43mtime_input\u001b[49m\u001b[43m[\u001b[49m\u001b[38;5;241;43m0\u001b[39;49m\u001b[43m]\u001b[49m\u001b[43m,\u001b[49m\u001b[43m \u001b[49m\u001b[43mtime_input\u001b[49m\u001b[43m[\u001b[49m\u001b[38;5;241;43m-\u001b[39;49m\u001b[38;5;241;43m1\u001b[39;49m\u001b[43m]\u001b[49m\u001b[43m \u001b[49m\u001b[43m)\u001b[49m\u001b[43m,\u001b[49m\u001b[43m \u001b[49m\u001b[43my0\u001b[49m\u001b[43m,\u001b[49m\u001b[43m \u001b[49m\u001b[38;5;124;43m'\u001b[39;49m\u001b[38;5;124;43mRK45\u001b[39;49m\u001b[38;5;124;43m'\u001b[39;49m\u001b[43m,\u001b[49m\u001b[43m \u001b[49m\u001b[43mtime_input\u001b[49m\u001b[43m \u001b[49m\u001b[43m)\u001b[49m\n\u001b[0;32m    457\u001b[0m t_val \u001b[38;5;241m=\u001b[39m solution\u001b[38;5;241m.\u001b[39mt\n\u001b[0;32m    458\u001b[0m x_val \u001b[38;5;241m=\u001b[39m solution\u001b[38;5;241m.\u001b[39my[\u001b[38;5;241m0\u001b[39m]\n",
      "File \u001b[1;32mc:\\Users\\emmaf\\Documents\\7. félév\\SZAKDOLGOZAT\\osd_dummy_modeling_2\\osd_dummy_modeling\\venv\\lib\\site-packages\\scipy\\integrate\\_ivp\\ivp.py:732\u001b[0m, in \u001b[0;36msolve_ivp\u001b[1;34m(fun, t_span, y0, method, t_eval, dense_output, events, vectorized, args, **options)\u001b[0m\n\u001b[0;32m    730\u001b[0m \u001b[38;5;28;01melif\u001b[39;00m ts:\n\u001b[0;32m    731\u001b[0m     ts \u001b[38;5;241m=\u001b[39m np\u001b[38;5;241m.\u001b[39mhstack(ts)\n\u001b[1;32m--> 732\u001b[0m     ys \u001b[38;5;241m=\u001b[39m \u001b[43mnp\u001b[49m\u001b[38;5;241;43m.\u001b[39;49m\u001b[43mhstack\u001b[49m\u001b[43m(\u001b[49m\u001b[43mys\u001b[49m\u001b[43m)\u001b[49m\n\u001b[0;32m    734\u001b[0m \u001b[38;5;28;01mif\u001b[39;00m dense_output:\n\u001b[0;32m    735\u001b[0m     \u001b[38;5;28;01mif\u001b[39;00m t_eval \u001b[38;5;129;01mis\u001b[39;00m \u001b[38;5;28;01mNone\u001b[39;00m:\n",
      "File \u001b[1;32mc:\\Users\\emmaf\\Documents\\7. félév\\SZAKDOLGOZAT\\osd_dummy_modeling_2\\osd_dummy_modeling\\venv\\lib\\site-packages\\numpy\\_core\\shape_base.py:364\u001b[0m, in \u001b[0;36mhstack\u001b[1;34m(tup, dtype, casting)\u001b[0m\n\u001b[0;32m    362\u001b[0m     \u001b[38;5;28;01mreturn\u001b[39;00m _nx\u001b[38;5;241m.\u001b[39mconcatenate(arrs, \u001b[38;5;241m0\u001b[39m, dtype\u001b[38;5;241m=\u001b[39mdtype, casting\u001b[38;5;241m=\u001b[39mcasting)\n\u001b[0;32m    363\u001b[0m \u001b[38;5;28;01melse\u001b[39;00m:\n\u001b[1;32m--> 364\u001b[0m     \u001b[38;5;28;01mreturn\u001b[39;00m \u001b[43m_nx\u001b[49m\u001b[38;5;241;43m.\u001b[39;49m\u001b[43mconcatenate\u001b[49m\u001b[43m(\u001b[49m\u001b[43marrs\u001b[49m\u001b[43m,\u001b[49m\u001b[43m \u001b[49m\u001b[38;5;241;43m1\u001b[39;49m\u001b[43m,\u001b[49m\u001b[43m \u001b[49m\u001b[43mdtype\u001b[49m\u001b[38;5;241;43m=\u001b[39;49m\u001b[43mdtype\u001b[49m\u001b[43m,\u001b[49m\u001b[43m \u001b[49m\u001b[43mcasting\u001b[49m\u001b[38;5;241;43m=\u001b[39;49m\u001b[43mcasting\u001b[49m\u001b[43m)\u001b[49m\n",
      "\u001b[1;31mKeyboardInterrupt\u001b[0m: "
     ]
    }
   ],
   "source": [
    "\n",
    "params_grid = Parameters()\n",
    "# set up the initial parameter values\n",
    "params_grid.add('k_1_init', min=0, max = 1e6, value=0, vary = True, brute_step=9e5 ) # N/mm\n",
    "params_grid.add('k_2_init', min=0, max = 1e6, value=0, vary = True, brute_step=9e5 ) # N/mm\n",
    "params_grid.add('kt_1_init', min=0, max = 1e6, value=0, vary = True, brute_step=9e5 ) # Nmm/rad\n",
    "params_grid.add('kt_2_init', min=0, max = 1e6, value=0, vary = True, brute_step=9e5 ) # Nmm/rad\n",
    "\n",
    "results_grid = lmfit.minimize( lmfit_3dof.grid_search_obj_combined,\n",
    "                               params_grid,\n",
    "                               method = \"brute\",\n",
    "                               args=( ddx_num, ddphi_num, ddtheta_num, gain, simulation_time_vals, pelvis_acceleration_simu_x, chest_acceleration_simu_x, head_acceleration_simu_x, y0, R, l, channels_to_use ) )\n",
    "\n",
    "print(\"Grid results:\")\n",
    "results_grid.params.pretty_print()\n"
   ]
  },
  {
   "cell_type": "code",
   "execution_count": null,
   "metadata": {},
   "outputs": [],
   "source": [
    "\n",
    "params_grid = Parameters()\n",
    "# set up the initial parameter values\n",
    "params_grid.add('k_1_init', min=0, max = 1e6, value=0, vary = True, brute_step=9e5 ) # N/mm\n",
    "params_grid.add('k_2_init', min=0, max = 1e6, value=0, vary = True, brute_step=9e5 ) # N/mm\n",
    "params_grid.add('kt_1_init', min=0, max = 1e6, value=0, vary = True, brute_step=9e5 ) # Nmm/rad\n",
    "params_grid.add('kt_2_init', min=0, max = 1e6, value=0, vary = True, brute_step=9e5 ) # Nmm/rad\n",
    "\n",
    "results_grid = lmfit.minimize( lmfit_3dof.grid_search_obj_combined,\n",
    "                               params_grid,\n",
    "                               method = \"Nelder-Mead\",\n",
    "                               args=( ddx_num, ddphi_num, ddtheta_num, gain, simulation_time_vals, pelvis_acceleration_simu_x, chest_acceleration_simu_x, head_acceleration_simu_x, y0, R, l, channels_to_use ) )\n",
    "\n",
    "print(\"Grid results:\")\n",
    "results_grid.params.pretty_print()\n"
   ]
  },
  {
   "cell_type": "code",
   "execution_count": null,
   "metadata": {},
   "outputs": [],
   "source": [
    "\n",
    "k_1_init_opt = results_grid.params['k_1_init']\n",
    "k_2_init_opt = results_grid.params['k_2_init']\n",
    "kt_1_init_opt = results_grid.params['kt_1_init']\n",
    "kt_2_init_opt = results_grid.params['kt_2_init']\n",
    "\n",
    "params = Parameters()\n",
    "# set up the initial parameter values\n",
    "params.add( 'k_1', min=0, max = None, value=k_1_init_opt , vary = True ) # N/mm\n",
    "params.add( 'kt_1', min=0, max = None, value=kt_1_init_opt, vary = True ) # Nmm/rad\n",
    "params.add( 'k_2', min=0, max = None, value=k_2_init_opt , vary = True ) # N/mm\n",
    "params.add( 'kt_2', min=0, max = None, value=kt_2_init_opt, vary = True ) # Nmm/rad\n",
    "\n",
    "fitter = Minimizer( lmfit_3dof.combined_obj_function, params,\n",
    "                     fcn_args=( ddx_num, ddphi_num, ddtheta_num, gain, simulation_time_vals, pelvis_acceleration_simu_x, chest_acceleration_simu_x, head_acceleration_simu_x, y0, R, l, channels_to_use ) )\n",
    "result = fitter.minimize( method='least_squares' )\n",
    "\n",
    "k_1_opt = result.params['k_1']\n",
    "kt_1_opt = result.params['kt_1']\n",
    "k_2_opt = result.params['k_2']\n",
    "kt_2_opt = result.params['kt_2']\n",
    "print(\"Optimized results:\")\n",
    "result.params.pretty_print()\n"
   ]
  },
  {
   "cell_type": "code",
   "execution_count": null,
   "metadata": {},
   "outputs": [],
   "source": [
    "\n",
    "# Computing acceleration values using combined fitting\n",
    "a_pelvis_x_combfit, a_pelvis_y_combfit, a_chest_x_combfit, a_chest_y_combfit, a_head_x_combfit, a_head_y_combfit = \\\n",
    "        solv.calculate_acceleration_components_for_all_body_parts( ddx_num, ddphi_num, ddtheta_num, gain, simulation_time_vals, y0, k_1_opt, k_2_opt, kt_1_opt, kt_2_opt, R, l )\n",
    "\n"
   ]
  },
  {
   "cell_type": "code",
   "execution_count": null,
   "metadata": {},
   "outputs": [],
   "source": [
    "\n",
    "plt.figure()\n",
    "plt.plot( simulation_time_vals, pelvis_acceleration_simu_x, label = 'simu')\n",
    "plt.plot( simulation_time_vals, a_pelvis_x_combfit, label ='pelvis fitted')\n",
    "plt.legend()\n",
    "plt.xlabel('Time [s]')\n",
    "plt.ylabel('Acceleration [mm/s^2]')\n",
    "plt.title(\"Comparison of simulated and computed results CHEST\")\n",
    "plt.show()\n",
    "\n",
    "plt.figure()\n",
    "plt.plot( simulation_time_vals, chest_acceleration_simu_x, label = 'simu')\n",
    "plt.plot( simulation_time_vals, a_chest_x_combfit, label ='chest fitted')\n",
    "plt.legend()\n",
    "plt.xlabel('Time [s]')\n",
    "plt.ylabel('Acceleration [mm/s^2]')\n",
    "plt.title(\"Comparison of simulated and computed results CHEST\")\n",
    "plt.show()\n",
    "\n",
    "plt.figure()\n",
    "plt.plot( simulation_time_vals, head_acceleration_simu_x, label = 'simu')\n",
    "plt.plot( simulation_time_vals, a_head_x_combfit, label ='fitted')\n",
    "plt.legend()\n",
    "plt.xlabel('Time [s]')\n",
    "plt.ylabel('Acceleration [mm/s^2]')\n",
    "plt.title(\"Comparison of simulated and computed results HEAD\")\n",
    "plt.show()\n"
   ]
  }
 ],
 "metadata": {
  "kernelspec": {
   "display_name": "osd_dummy_kernel",
   "language": "python",
   "name": "osd_dummy_kernel"
  },
  "language_info": {
   "codemirror_mode": {
    "name": "ipython",
    "version": 3
   },
   "file_extension": ".py",
   "mimetype": "text/x-python",
   "name": "python",
   "nbconvert_exporter": "python",
   "pygments_lexer": "ipython3",
   "version": "3.10.9"
  }
 },
 "nbformat": 4,
 "nbformat_minor": 2
}
